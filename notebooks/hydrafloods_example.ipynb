{
 "cells": [
  {
   "cell_type": "code",
   "execution_count": 1,
   "metadata": {},
   "outputs": [],
   "source": [
    "import ee\n",
    "ee.Initialize()\n",
    "from EO_Floods.floodmap import FloodMap"
   ]
  },
  {
   "cell_type": "markdown",
   "metadata": {},
   "source": [
    "### Example workflow of EO-Floods"
   ]
  },
  {
   "cell_type": "markdown",
   "metadata": {},
   "source": [
    "This is an example of a workflow with EO-Floods. We start out with a the region of Shahdadkot city in Pakistan. This city was severly impacted by the floods of 2022. We will look for floods for the month of October. "
   ]
  },
  {
   "cell_type": "markdown",
   "metadata": {},
   "source": [
    "First, initialize a FloodMap object. Give the start date and end date of the period that we are interested in. The geometry should be a bounding box in the form of a list of coordinates ([xmin, ymin, xmax, ymax]). Then the name of a dataset should be given. It is also possible to use multiple datasets, this can be done by giving a list of dataset names. Lastly a provider needs to be given. For now only hydrafloods is supported."
   ]
  },
  {
   "cell_type": "code",
   "execution_count": 2,
   "metadata": {},
   "outputs": [
    {
     "data": {
      "text/html": [
       "\n",
       "            <style>\n",
       "                .geemap-dark {\n",
       "                    --jp-widgets-color: white;\n",
       "                    --jp-widgets-label-color: white;\n",
       "                    --jp-ui-font-color1: white;\n",
       "                    --jp-layout-color2: #454545;\n",
       "                    background-color: #383838;\n",
       "                }\n",
       "\n",
       "                .geemap-dark .jupyter-button {\n",
       "                    --jp-layout-color3: #383838;\n",
       "                }\n",
       "\n",
       "                .geemap-colab {\n",
       "                    background-color: var(--colab-primary-surface-color, white);\n",
       "                }\n",
       "\n",
       "                .geemap-colab .jupyter-button {\n",
       "                    --jp-layout-color3: var(--colab-primary-surface-color, white);\n",
       "                }\n",
       "            </style>\n",
       "            "
      ],
      "text/plain": [
       "<IPython.core.display.HTML object>"
      ]
     },
     "metadata": {},
     "output_type": "display_data"
    },
    {
     "name": "stdout",
     "output_type": "stream",
     "text": [
      "INFO:EO_Floods.floodmap:Flood map object initialized\n"
     ]
    }
   ],
   "source": [
    "\n",
    "floodmap = FloodMap(\n",
    "    start_date=\"2022-10-01\",\n",
    "    end_date=\"2022-10-15\",\n",
    "    geometry=[67.740187,27.712453,68.104933,28.000935],\n",
    ")\n"
   ]
  },
  {
   "cell_type": "markdown",
   "metadata": {},
   "source": [
    "The floodmap object will print information about the data that is retrieved for the given parameters. Mainly the number and dates of the images found. "
   ]
  },
  {
   "cell_type": "code",
   "execution_count": 3,
   "metadata": {},
   "outputs": [
    {
     "data": {
      "text/html": [
       "\n",
       "            <style>\n",
       "                .geemap-dark {\n",
       "                    --jp-widgets-color: white;\n",
       "                    --jp-widgets-label-color: white;\n",
       "                    --jp-ui-font-color1: white;\n",
       "                    --jp-layout-color2: #454545;\n",
       "                    background-color: #383838;\n",
       "                }\n",
       "\n",
       "                .geemap-dark .jupyter-button {\n",
       "                    --jp-layout-color3: #383838;\n",
       "                }\n",
       "\n",
       "                .geemap-colab {\n",
       "                    background-color: var(--colab-primary-surface-color, white);\n",
       "                }\n",
       "\n",
       "                .geemap-colab .jupyter-button {\n",
       "                    --jp-layout-color3: var(--colab-primary-surface-color, white);\n",
       "                }\n",
       "            </style>\n",
       "            "
      ],
      "text/plain": [
       "<IPython.core.display.HTML object>"
      ]
     },
     "metadata": {},
     "output_type": "display_data"
    },
    {
     "name": "stderr",
     "output_type": "stream",
     "text": [
      "/home/tjalling/miniconda3/envs/EO-Floods/lib/python3.11/site-packages/ee/deprecation.py:204: DeprecationWarning: \n",
      "\n",
      "Attention required for NOAA/VIIRS/001/VNP09GA! You are using a deprecated asset.\n",
      "To ensure continued functionality, please update it.\n",
      "Learn more: https://developers.google.com/earth-engine/datasets/catalog/NOAA_VIIRS_001_VNP09GA\n",
      "\n",
      "  warnings.warn(warning, category=DeprecationWarning)\n",
      "/home/tjalling/miniconda3/envs/EO-Floods/lib/python3.11/site-packages/ee/deprecation.py:204: DeprecationWarning: \n",
      "\n",
      "Attention required for MODIS/006/MOD09GA! You are using a deprecated asset.\n",
      "To ensure continued functionality, please update it.\n",
      "Learn more: https://developers.google.com/earth-engine/datasets/catalog/MODIS_006_MOD09GA\n",
      "\n",
      "  warnings.warn(warning, category=DeprecationWarning)\n"
     ]
    },
    {
     "name": "stdout",
     "output_type": "stream",
     "text": [
      "WARNING:googleapiclient.http:Sleeping 0.60 seconds before retry 1 of 5 for request: POST https://earthengine.googleapis.com/v1/projects/ee-tjallingdejong-em/value:compute?prettyPrint=false&alt=json, after 429\n",
      "WARNING:googleapiclient.http:Sleeping 3.70 seconds before retry 2 of 5 for request: POST https://earthengine.googleapis.com/v1/projects/ee-tjallingdejong-em/value:compute?prettyPrint=false&alt=json, after 429\n",
      "WARNING:googleapiclient.http:Sleeping 1.84 seconds before retry 1 of 5 for request: POST https://earthengine.googleapis.com/v1/projects/ee-tjallingdejong-em/value:compute?prettyPrint=false&alt=json, after 429\n",
      "WARNING:googleapiclient.http:Sleeping 1.96 seconds before retry 2 of 5 for request: POST https://earthengine.googleapis.com/v1/projects/ee-tjallingdejong-em/value:compute?prettyPrint=false&alt=json, after 429\n",
      "======================================================================\n",
      "Dataset name: Sentinel-1\n",
      "Number of images: 5\n",
      "Dataset ID: COPERNICUS/S1_GRD\n",
      "\n",
      "| Timestamp               |   Quality score (%) |\n",
      "|-------------------------+---------------------|\n",
      "| 2022-10-02 13:36:35.000 |               97.73 |\n",
      "| 2022-10-05 01:25:26.000 |               98.52 |\n",
      "| 2022-10-05 01:25:51.000 |               95.06 |\n",
      "| 2022-10-09 13:28:25.000 |               96.49 |\n",
      "| 2022-10-14 13:36:35.000 |               97.74 |\n",
      "\n",
      "======================================================================\n",
      "Dataset name: Sentinel-2\n",
      "Number of images: 0\n",
      "Dataset ID: COPERNICUS/S2_SR_HARMONIZED\n",
      "\n",
      "======================================================================\n",
      "Dataset name: Landsat 7\n",
      "Number of images: 1\n",
      "Dataset ID: LANDSAT/LE07/C02/T1_L2\n",
      "\n",
      "| Timestamp               |   Quality score (%) |\n",
      "|-------------------------+---------------------|\n",
      "| 2022-10-14 04:16:23.850 |               75.23 |\n",
      "\n",
      "======================================================================\n",
      "Dataset name: Landsat 8\n",
      "Number of images: 3\n",
      "Dataset ID: LANDSAT/LC08/C02/T1_L2\n",
      "\n",
      "| Timestamp               |   Quality score (%) |\n",
      "|-------------------------+---------------------|\n",
      "| 2022-10-07 05:56:55.083 |               99.9  |\n",
      "| 2022-10-14 06:02:36.556 |               88.89 |\n",
      "| 2022-10-14 06:03:00.451 |               99.77 |\n",
      "\n",
      "======================================================================\n",
      "Dataset name: VIIRS\n",
      "Number of images: 14\n",
      "Dataset ID: NOAA/VIIRS/001/VNP09GA\n",
      "\n",
      "| Timestamp               |   Quality score (%) |\n",
      "|-------------------------+---------------------|\n",
      "| 2022-10-01 00:00:00.000 |               61.74 |\n",
      "| 2022-10-02 00:00:00.000 |               40.63 |\n",
      "| 2022-10-03 00:00:00.000 |               34.08 |\n",
      "| 2022-10-04 00:00:00.000 |               52.91 |\n",
      "| 2022-10-05 00:00:00.000 |               66.28 |\n",
      "| 2022-10-06 00:00:00.000 |               67.97 |\n",
      "| 2022-10-07 00:00:00.000 |               46.63 |\n",
      "| 2022-10-08 00:00:00.000 |                0    |\n",
      "| 2022-10-09 00:00:00.000 |               42.78 |\n",
      "| 2022-10-10 00:00:00.000 |               60.64 |\n",
      "| 2022-10-11 00:00:00.000 |               58.66 |\n",
      "| 2022-10-12 00:00:00.000 |               48.95 |\n",
      "| 2022-10-13 00:00:00.000 |               46.92 |\n",
      "| 2022-10-14 00:00:00.000 |               42.37 |\n",
      "\n",
      "======================================================================\n",
      "Dataset name: MODIS\n",
      "Number of images: 10\n",
      "Dataset ID: MODIS/006/MOD09GA\n",
      "\n",
      "| Timestamp               |   Quality score (%) |\n",
      "|-------------------------+---------------------|\n",
      "| 2022-10-01 00:00:00.000 |               98.78 |\n",
      "| 2022-10-02 00:00:00.000 |              100    |\n",
      "| 2022-10-03 00:00:00.000 |               99.98 |\n",
      "| 2022-10-04 00:00:00.000 |               98.78 |\n",
      "| 2022-10-05 00:00:00.000 |               99.96 |\n",
      "| 2022-10-06 00:00:00.000 |               99.88 |\n",
      "| 2022-10-07 00:00:00.000 |                0    |\n",
      "| 2022-10-08 00:00:00.000 |               99.99 |\n",
      "| 2022-10-09 00:00:00.000 |              100    |\n",
      "| 2022-10-10 00:00:00.000 |               99.96 |\n",
      "\n",
      "\n"
     ]
    }
   ],
   "source": [
    "floodmap.available_data()"
   ]
  },
  {
   "cell_type": "markdown",
   "metadata": {},
   "source": [
    "There is an option to preview the data before generating flood extents. With this option you can check whether the image covers the area of interest to a desired degree and is of a workable quality."
   ]
  },
  {
   "cell_type": "code",
   "execution_count": null,
   "metadata": {},
   "outputs": [
    {
     "data": {
      "text/html": [
       "\n",
       "            <style>\n",
       "                .geemap-dark {\n",
       "                    --jp-widgets-color: white;\n",
       "                    --jp-widgets-label-color: white;\n",
       "                    --jp-ui-font-color1: white;\n",
       "                    --jp-layout-color2: #454545;\n",
       "                    background-color: #383838;\n",
       "                }\n",
       "                    \n",
       "                .geemap-dark .jupyter-button {\n",
       "                    --jp-layout-color3: #383838;\n",
       "                }\n",
       "                \n",
       "                .geemap-colab {\n",
       "                    background-color: var(--colab-primary-surface-color, white);\n",
       "                }\n",
       "                    \n",
       "                .geemap-colab .jupyter-button {\n",
       "                    --jp-layout-color3: var(--colab-primary-surface-color, white);\n",
       "                }\n",
       "            </style>\n",
       "            "
      ],
      "text/plain": [
       "<IPython.core.display.HTML object>"
      ]
     },
     "metadata": {},
     "output_type": "display_data"
    },
    {
     "data": {
      "text/html": [
       "<iframe srcdoc=\"&lt;!DOCTYPE html&gt;\n",
       "&lt;html&gt;\n",
       "&lt;head&gt;\n",
       "    \n",
       "    &lt;meta http-equiv=&quot;content-type&quot; content=&quot;text/html; charset=UTF-8&quot; /&gt;\n",
       "    \n",
       "        &lt;script&gt;\n",
       "            L_NO_TOUCH = false;\n",
       "            L_DISABLE_3D = false;\n",
       "        &lt;/script&gt;\n",
       "    \n",
       "    &lt;style&gt;html, body {width: 100%;height: 100%;margin: 0;padding: 0;}&lt;/style&gt;\n",
       "    &lt;style&gt;#map {position:absolute;top:0;bottom:0;right:0;left:0;}&lt;/style&gt;\n",
       "    &lt;script src=&quot;https://cdn.jsdelivr.net/npm/leaflet@1.9.3/dist/leaflet.js&quot;&gt;&lt;/script&gt;\n",
       "    &lt;script src=&quot;https://code.jquery.com/jquery-3.7.1.min.js&quot;&gt;&lt;/script&gt;\n",
       "    &lt;script src=&quot;https://cdn.jsdelivr.net/npm/bootstrap@5.2.2/dist/js/bootstrap.bundle.min.js&quot;&gt;&lt;/script&gt;\n",
       "    &lt;script src=&quot;https://cdnjs.cloudflare.com/ajax/libs/Leaflet.awesome-markers/2.0.2/leaflet.awesome-markers.js&quot;&gt;&lt;/script&gt;\n",
       "    &lt;link rel=&quot;stylesheet&quot; href=&quot;https://cdn.jsdelivr.net/npm/leaflet@1.9.3/dist/leaflet.css&quot;/&gt;\n",
       "    &lt;link rel=&quot;stylesheet&quot; href=&quot;https://cdn.jsdelivr.net/npm/bootstrap@5.2.2/dist/css/bootstrap.min.css&quot;/&gt;\n",
       "    &lt;link rel=&quot;stylesheet&quot; href=&quot;https://netdna.bootstrapcdn.com/bootstrap/3.0.0/css/bootstrap.min.css&quot;/&gt;\n",
       "    &lt;link rel=&quot;stylesheet&quot; href=&quot;https://cdn.jsdelivr.net/npm/@fortawesome/fontawesome-free@6.2.0/css/all.min.css&quot;/&gt;\n",
       "    &lt;link rel=&quot;stylesheet&quot; href=&quot;https://cdnjs.cloudflare.com/ajax/libs/Leaflet.awesome-markers/2.0.2/leaflet.awesome-markers.css&quot;/&gt;\n",
       "    &lt;link rel=&quot;stylesheet&quot; href=&quot;https://cdn.jsdelivr.net/gh/python-visualization/folium/folium/templates/leaflet.awesome.rotate.min.css&quot;/&gt;\n",
       "    \n",
       "            &lt;meta name=&quot;viewport&quot; content=&quot;width=device-width,\n",
       "                initial-scale=1.0, maximum-scale=1.0, user-scalable=no&quot; /&gt;\n",
       "            &lt;style&gt;\n",
       "                #map_9a7ccf446d8282d806f033bb132bd217 {\n",
       "                    position: relative;\n",
       "                    width: 100.0%;\n",
       "                    height: 100.0%;\n",
       "                    left: 0.0%;\n",
       "                    top: 0.0%;\n",
       "                }\n",
       "                .leaflet-container { font-size: 1rem; }\n",
       "            &lt;/style&gt;\n",
       "        \n",
       "    &lt;script src=&quot;https://cdn.jsdelivr.net/npm/leaflet.fullscreen@3.0.0/Control.FullScreen.min.js&quot;&gt;&lt;/script&gt;\n",
       "    &lt;link rel=&quot;stylesheet&quot; href=&quot;https://cdn.jsdelivr.net/npm/leaflet.fullscreen@3.0.0/Control.FullScreen.css&quot;/&gt;\n",
       "    &lt;script src=&quot;https://cdnjs.cloudflare.com/ajax/libs/leaflet.draw/1.0.2/leaflet.draw.js&quot;&gt;&lt;/script&gt;\n",
       "    &lt;link rel=&quot;stylesheet&quot; href=&quot;https://cdnjs.cloudflare.com/ajax/libs/leaflet.draw/1.0.2/leaflet.draw.css&quot;/&gt;\n",
       "    &lt;script src=&quot;https://unpkg.com/leaflet-control-geocoder/dist/Control.Geocoder.js&quot;&gt;&lt;/script&gt;\n",
       "    &lt;link rel=&quot;stylesheet&quot; href=&quot;https://unpkg.com/leaflet-control-geocoder/dist/Control.Geocoder.css&quot;/&gt;\n",
       "&lt;/head&gt;\n",
       "&lt;body&gt;\n",
       "    \n",
       "    \n",
       "            &lt;div class=&quot;folium-map&quot; id=&quot;map_9a7ccf446d8282d806f033bb132bd217&quot; &gt;&lt;/div&gt;\n",
       "        \n",
       "&lt;/body&gt;\n",
       "&lt;script&gt;\n",
       "    \n",
       "    \n",
       "            var map_9a7ccf446d8282d806f033bb132bd217 = L.map(\n",
       "                &quot;map_9a7ccf446d8282d806f033bb132bd217&quot;,\n",
       "                {\n",
       "                    center: [27.856693999999997, 67.92256],\n",
       "                    crs: L.CRS.EPSG3857,\n",
       "                    zoom: 8,\n",
       "                    zoomControl: true,\n",
       "                    preferCanvas: false,\n",
       "                    eeInitialize: true,\n",
       "                    addGoogleMap: false,\n",
       "                    pluginLatlngpopup: false,\n",
       "                    pluginFullscreen: true,\n",
       "                    pluginDraw: true,\n",
       "                    DrawExport: false,\n",
       "                    pluginMinimap: false,\n",
       "                    locateControl: false,\n",
       "                    searchControl: true,\n",
       "                    layersControl: true,\n",
       "                }\n",
       "            );\n",
       "\n",
       "            \n",
       "\n",
       "        \n",
       "    \n",
       "            var tile_layer_925092e70dbeda245d230807f1e0ebf7 = L.tileLayer(\n",
       "                &quot;https://{s}.tile.openstreetmap.org/{z}/{x}/{y}.png&quot;,\n",
       "                {&quot;attribution&quot;: &quot;Data by \\u0026copy; \\u003ca target=\\&quot;_blank\\&quot; href=\\&quot;http://openstreetmap.org\\&quot;\\u003eOpenStreetMap\\u003c/a\\u003e, under \\u003ca target=\\&quot;_blank\\&quot; href=\\&quot;http://www.openstreetmap.org/copyright\\&quot;\\u003eODbL\\u003c/a\\u003e.&quot;, &quot;detectRetina&quot;: false, &quot;maxNativeZoom&quot;: 30, &quot;maxZoom&quot;: 30, &quot;minZoom&quot;: 0, &quot;noWrap&quot;: false, &quot;opacity&quot;: 1, &quot;subdomains&quot;: &quot;abc&quot;, &quot;tms&quot;: false}\n",
       "            );\n",
       "        \n",
       "    \n",
       "                tile_layer_925092e70dbeda245d230807f1e0ebf7.addTo(map_9a7ccf446d8282d806f033bb132bd217);\n",
       "    \n",
       "            L.control.fullscreen(\n",
       "                {&quot;forceSeparateButton&quot;: false, &quot;position&quot;: &quot;topleft&quot;, &quot;title&quot;: &quot;Full Screen&quot;, &quot;titleCancel&quot;: &quot;Exit Full Screen&quot;}\n",
       "            ).addTo(map_9a7ccf446d8282d806f033bb132bd217);\n",
       "        \n",
       "    \n",
       "            var options = {\n",
       "              position: &quot;topleft&quot;,\n",
       "              draw: {},\n",
       "              edit: {},\n",
       "            }\n",
       "            // FeatureGroup is to store editable layers.\n",
       "            var drawnItems_draw_control_dee073d449443dca9f0116bf96949611 = new L.featureGroup().addTo(\n",
       "                map_9a7ccf446d8282d806f033bb132bd217\n",
       "            );\n",
       "            options.edit.featureGroup = drawnItems_draw_control_dee073d449443dca9f0116bf96949611;\n",
       "            var draw_control_dee073d449443dca9f0116bf96949611 = new L.Control.Draw(\n",
       "                options\n",
       "            ).addTo( map_9a7ccf446d8282d806f033bb132bd217 );\n",
       "            map_9a7ccf446d8282d806f033bb132bd217.on(L.Draw.Event.CREATED, function(e) {\n",
       "                var layer = e.layer,\n",
       "                    type = e.layerType;\n",
       "                var coords = JSON.stringify(layer.toGeoJSON());\n",
       "                layer.on(&#x27;click&#x27;, function() {\n",
       "                    alert(coords);\n",
       "                    console.log(coords);\n",
       "                });\n",
       "                drawnItems_draw_control_dee073d449443dca9f0116bf96949611.addLayer(layer);\n",
       "             });\n",
       "            map_9a7ccf446d8282d806f033bb132bd217.on(&#x27;draw:created&#x27;, function(e) {\n",
       "                drawnItems_draw_control_dee073d449443dca9f0116bf96949611.addLayer(e.layer);\n",
       "            });\n",
       "            \n",
       "        \n",
       "    \n",
       "            L.Control.geocoder(\n",
       "                {&quot;collapsed&quot;: true, &quot;defaultMarkGeocode&quot;: true, &quot;position&quot;: &quot;topleft&quot;}\n",
       "            ).on(&#x27;markgeocode&#x27;, function(e) {\n",
       "                map_9a7ccf446d8282d806f033bb132bd217.setView(e.geocode.center, 11);\n",
       "            }).addTo(map_9a7ccf446d8282d806f033bb132bd217);\n",
       "\n",
       "        \n",
       "    \n",
       "            map_9a7ccf446d8282d806f033bb132bd217.fitBounds(\n",
       "                [[27.856693999999997, 67.92256], [27.856693999999997, 67.92256]],\n",
       "                {&quot;maxZoom&quot;: 8}\n",
       "            );\n",
       "        \n",
       "    \n",
       "            var tile_layer_59207b85d6d60dee4ec6469bc5df2f87 = L.tileLayer(\n",
       "                &quot;https://earthengine.googleapis.com/v1/projects/global-water-watch/maps/c41e4949b81680ccdd5976799ba9cec2-82cf13073b502f6653d6e909d8885e9b/tiles/{z}/{x}/{y}&quot;,\n",
       "                {&quot;attribution&quot;: &quot;Google Earth Engine&quot;, &quot;detectRetina&quot;: false, &quot;maxNativeZoom&quot;: 24, &quot;maxZoom&quot;: 24, &quot;minZoom&quot;: 0, &quot;noWrap&quot;: false, &quot;opacity&quot;: 1.0, &quot;subdomains&quot;: &quot;abc&quot;, &quot;tms&quot;: false}\n",
       "            );\n",
       "        \n",
       "    \n",
       "                tile_layer_59207b85d6d60dee4ec6469bc5df2f87.addTo(map_9a7ccf446d8282d806f033bb132bd217);\n",
       "    \n",
       "            var tile_layer_864bc2f4d12373a951deafe2bea171ae = L.tileLayer(\n",
       "                &quot;https://earthengine.googleapis.com/v1/projects/global-water-watch/maps/967bdbfd57d5ae3e7e543c4f4131d4b7-4e95636ed8f878bb2a51232deff9cddb/tiles/{z}/{x}/{y}&quot;,\n",
       "                {&quot;attribution&quot;: &quot;Google Earth Engine&quot;, &quot;detectRetina&quot;: false, &quot;maxNativeZoom&quot;: 24, &quot;maxZoom&quot;: 24, &quot;minZoom&quot;: 0, &quot;noWrap&quot;: false, &quot;opacity&quot;: 1.0, &quot;subdomains&quot;: &quot;abc&quot;, &quot;tms&quot;: false}\n",
       "            );\n",
       "        \n",
       "    \n",
       "                tile_layer_864bc2f4d12373a951deafe2bea171ae.addTo(map_9a7ccf446d8282d806f033bb132bd217);\n",
       "    \n",
       "            var tile_layer_b51017e3494ed9033c09b109b9af316c = L.tileLayer(\n",
       "                &quot;https://earthengine.googleapis.com/v1/projects/global-water-watch/maps/e53d25044bbd29e7c4c697df3493aa86-ab1c0d1ef217a68e13f9dc6ce17aaa4b/tiles/{z}/{x}/{y}&quot;,\n",
       "                {&quot;attribution&quot;: &quot;Google Earth Engine&quot;, &quot;detectRetina&quot;: false, &quot;maxNativeZoom&quot;: 24, &quot;maxZoom&quot;: 24, &quot;minZoom&quot;: 0, &quot;noWrap&quot;: false, &quot;opacity&quot;: 1.0, &quot;subdomains&quot;: &quot;abc&quot;, &quot;tms&quot;: false}\n",
       "            );\n",
       "        \n",
       "    \n",
       "                tile_layer_b51017e3494ed9033c09b109b9af316c.addTo(map_9a7ccf446d8282d806f033bb132bd217);\n",
       "    \n",
       "            var tile_layer_13f6377d3ad3aa26efb8a5a0c681b168 = L.tileLayer(\n",
       "                &quot;https://earthengine.googleapis.com/v1/projects/global-water-watch/maps/0dedab96040aec448262ef986943c6d5-dca4a130852ffce93756b4f4630de1db/tiles/{z}/{x}/{y}&quot;,\n",
       "                {&quot;attribution&quot;: &quot;Google Earth Engine&quot;, &quot;detectRetina&quot;: false, &quot;maxNativeZoom&quot;: 24, &quot;maxZoom&quot;: 24, &quot;minZoom&quot;: 0, &quot;noWrap&quot;: false, &quot;opacity&quot;: 1.0, &quot;subdomains&quot;: &quot;abc&quot;, &quot;tms&quot;: false}\n",
       "            );\n",
       "        \n",
       "    \n",
       "                tile_layer_13f6377d3ad3aa26efb8a5a0c681b168.addTo(map_9a7ccf446d8282d806f033bb132bd217);\n",
       "    \n",
       "            var layer_control_b046fc80ff753d7a0d3728d30a9bddfa_layers = {\n",
       "                base_layers : {\n",
       "                    &quot;openstreetmap&quot; : tile_layer_925092e70dbeda245d230807f1e0ebf7,\n",
       "                },\n",
       "                overlays :  {\n",
       "                    &quot;Landsat 8 2022-10-07 05:56:55.083&quot; : tile_layer_59207b85d6d60dee4ec6469bc5df2f87,\n",
       "                    &quot;Landsat 8 2022-10-23 05:56:55.960&quot; : tile_layer_864bc2f4d12373a951deafe2bea171ae,\n",
       "                    &quot;Landsat 8 2022-10-14 06:02:36.556&quot; : tile_layer_b51017e3494ed9033c09b109b9af316c,\n",
       "                    &quot;Landsat 8 2022-10-14 06:03:00.451&quot; : tile_layer_13f6377d3ad3aa26efb8a5a0c681b168,\n",
       "                },\n",
       "            };\n",
       "            let layer_control_b046fc80ff753d7a0d3728d30a9bddfa = L.control.layers(\n",
       "                layer_control_b046fc80ff753d7a0d3728d30a9bddfa_layers.base_layers,\n",
       "                layer_control_b046fc80ff753d7a0d3728d30a9bddfa_layers.overlays,\n",
       "                {&quot;autoZIndex&quot;: true, &quot;collapsed&quot;: true, &quot;position&quot;: &quot;topright&quot;}\n",
       "            ).addTo(map_9a7ccf446d8282d806f033bb132bd217);\n",
       "\n",
       "        \n",
       "&lt;/script&gt;\n",
       "&lt;/html&gt;\" width=\"100%\" height=\"600\"style=\"border:none !important;\" \"allowfullscreen\" \"webkitallowfullscreen\" \"mozallowfullscreen\"></iframe>"
      ],
      "text/plain": [
       "<geemap.foliumap.Map at 0x7efbd74a92d0>"
      ]
     },
     "execution_count": 4,
     "metadata": {},
     "output_type": "execute_result"
    }
   ],
   "source": [
    "floodmap.preview_data()"
   ]
  },
  {
   "cell_type": "markdown",
   "metadata": {},
   "source": [
    "If some images are not adequate for generating flood extents then there is the option to select the data that does suit your requirements. You can choose the start date and end date and which dataset to use. Be aware that the end date is exclusive.  "
   ]
  },
  {
   "cell_type": "code",
   "execution_count": null,
   "metadata": {},
   "outputs": [
    {
     "data": {
      "text/html": [
       "\n",
       "            <style>\n",
       "                .geemap-dark {\n",
       "                    --jp-widgets-color: white;\n",
       "                    --jp-widgets-label-color: white;\n",
       "                    --jp-ui-font-color1: white;\n",
       "                    --jp-layout-color2: #454545;\n",
       "                    background-color: #383838;\n",
       "                }\n",
       "                    \n",
       "                .geemap-dark .jupyter-button {\n",
       "                    --jp-layout-color3: #383838;\n",
       "                }\n",
       "                \n",
       "                .geemap-colab {\n",
       "                    background-color: var(--colab-primary-surface-color, white);\n",
       "                }\n",
       "                    \n",
       "                .geemap-colab .jupyter-button {\n",
       "                    --jp-layout-color3: var(--colab-primary-surface-color, white);\n",
       "                }\n",
       "            </style>\n",
       "            "
      ],
      "text/plain": [
       "<IPython.core.display.HTML object>"
      ]
     },
     "metadata": {},
     "output_type": "display_data"
    }
   ],
   "source": [
    "# floodmap.select_data(datasets=\"Landsat 8\", start_date=\"2023-10-26\", end_date=\"2023-10-27\")"
   ]
  },
  {
   "cell_type": "markdown",
   "metadata": {},
   "source": [
    "When you have the right images it is time to generate the flood extents."
   ]
  },
  {
   "cell_type": "code",
   "execution_count": null,
   "metadata": {},
   "outputs": [
    {
     "data": {
      "text/html": [
       "\n",
       "            <style>\n",
       "                .geemap-dark {\n",
       "                    --jp-widgets-color: white;\n",
       "                    --jp-widgets-label-color: white;\n",
       "                    --jp-ui-font-color1: white;\n",
       "                    --jp-layout-color2: #454545;\n",
       "                    background-color: #383838;\n",
       "                }\n",
       "                    \n",
       "                .geemap-dark .jupyter-button {\n",
       "                    --jp-layout-color3: #383838;\n",
       "                }\n",
       "                \n",
       "                .geemap-colab {\n",
       "                    background-color: var(--colab-primary-surface-color, white);\n",
       "                }\n",
       "                    \n",
       "                .geemap-colab .jupyter-button {\n",
       "                    --jp-layout-color3: var(--colab-primary-surface-color, white);\n",
       "                }\n",
       "            </style>\n",
       "            "
      ],
      "text/plain": [
       "<IPython.core.display.HTML object>"
      ]
     },
     "metadata": {},
     "output_type": "display_data"
    },
    {
     "name": "stdout",
     "output_type": "stream",
     "text": [
      "INFO:EO_Floods.provider:Generating flood extents for Landsat 8 dataset\n",
      "INFO:EO_Floods.provider:Clipping image to country boundaries\n",
      "INFO:EO_Floods.provider:Applying edge-otsu thresholding\n"
     ]
    }
   ],
   "source": [
    "floodmap.generate_flood_extents()"
   ]
  },
  {
   "cell_type": "markdown",
   "metadata": {},
   "source": [
    "The flood extents are not automatically plotted since this can take quit some time. You have to call plot_flood_extents() on the FloodMap object to actually plot them. "
   ]
  },
  {
   "cell_type": "code",
   "execution_count": null,
   "metadata": {},
   "outputs": [
    {
     "data": {
      "text/html": [
       "\n",
       "            <style>\n",
       "                .geemap-dark {\n",
       "                    --jp-widgets-color: white;\n",
       "                    --jp-widgets-label-color: white;\n",
       "                    --jp-ui-font-color1: white;\n",
       "                    --jp-layout-color2: #454545;\n",
       "                    background-color: #383838;\n",
       "                }\n",
       "                    \n",
       "                .geemap-dark .jupyter-button {\n",
       "                    --jp-layout-color3: #383838;\n",
       "                }\n",
       "                \n",
       "                .geemap-colab {\n",
       "                    background-color: var(--colab-primary-surface-color, white);\n",
       "                }\n",
       "                    \n",
       "                .geemap-colab .jupyter-button {\n",
       "                    --jp-layout-color3: var(--colab-primary-surface-color, white);\n",
       "                }\n",
       "            </style>\n",
       "            "
      ],
      "text/plain": [
       "<IPython.core.display.HTML object>"
      ]
     },
     "metadata": {},
     "output_type": "display_data"
    },
    {
     "ename": "TimeoutError",
     "evalue": "Plotting floodmaps has timed out, increase the time out threshold or plot a smaller selection of your data",
     "output_type": "error",
     "traceback": [
      "\u001b[0;31m---------------------------------------------------------------------------\u001b[0m",
      "\u001b[0;31mTimeoutError\u001b[0m                              Traceback (most recent call last)",
      "File \u001b[0;32m~/repos/EO-floods/EO_Floods/provider.py:361\u001b[0m, in \u001b[0;36mHydraFloods.plot_flood_extents\u001b[0;34m(self, timeout, zoom)\u001b[0m\n\u001b[1;32m    360\u001b[0m     \u001b[38;5;28;01mwith\u001b[39;00m multiprocessing\u001b[38;5;241m.\u001b[39mpool\u001b[38;5;241m.\u001b[39mThreadPool() \u001b[38;5;28;01mas\u001b[39;00m pool:\n\u001b[0;32m--> 361\u001b[0m         return_value \u001b[38;5;241m=\u001b[39m \u001b[43mpool\u001b[49m\u001b[38;5;241;43m.\u001b[39;49m\u001b[43mapply_async\u001b[49m\u001b[43m(\u001b[49m\u001b[43m_plot_flood_extents\u001b[49m\u001b[43m,\u001b[49m\u001b[43m \u001b[49m\u001b[43m(\u001b[49m\u001b[43mzoom\u001b[49m\u001b[43m,\u001b[49m\u001b[43m)\u001b[49m\u001b[43m)\u001b[49m\u001b[38;5;241;43m.\u001b[39;49m\u001b[43mget\u001b[49m\u001b[43m(\u001b[49m\n\u001b[1;32m    362\u001b[0m \u001b[43m            \u001b[49m\u001b[43mtimeout\u001b[49m\u001b[38;5;241;43m=\u001b[39;49m\u001b[43mtimeout\u001b[49m\n\u001b[1;32m    363\u001b[0m \u001b[43m        \u001b[49m\u001b[43m)\u001b[49m\n\u001b[1;32m    364\u001b[0m \u001b[38;5;28;01mexcept\u001b[39;00m multiprocessing\u001b[38;5;241m.\u001b[39mTimeoutError:\n",
      "File \u001b[0;32m~/mambaforge/envs/EO-Floods/lib/python3.11/multiprocessing/pool.py:770\u001b[0m, in \u001b[0;36mApplyResult.get\u001b[0;34m(self, timeout)\u001b[0m\n\u001b[1;32m    769\u001b[0m \u001b[38;5;28;01mif\u001b[39;00m \u001b[38;5;129;01mnot\u001b[39;00m \u001b[38;5;28mself\u001b[39m\u001b[38;5;241m.\u001b[39mready():\n\u001b[0;32m--> 770\u001b[0m     \u001b[38;5;28;01mraise\u001b[39;00m \u001b[38;5;167;01mTimeoutError\u001b[39;00m\n\u001b[1;32m    771\u001b[0m \u001b[38;5;28;01mif\u001b[39;00m \u001b[38;5;28mself\u001b[39m\u001b[38;5;241m.\u001b[39m_success:\n",
      "\u001b[0;31mTimeoutError\u001b[0m: ",
      "\nDuring handling of the above exception, another exception occurred:\n",
      "\u001b[0;31mTimeoutError\u001b[0m                              Traceback (most recent call last)",
      "Cell \u001b[0;32mIn[7], line 1\u001b[0m\n\u001b[0;32m----> 1\u001b[0m \u001b[43mfloodmap\u001b[49m\u001b[38;5;241;43m.\u001b[39;49m\u001b[43mplot_flood_extents\u001b[49m\u001b[43m(\u001b[49m\u001b[43m)\u001b[49m\n",
      "File \u001b[0;32m~/repos/EO-floods/EO_Floods/floodmap.py:132\u001b[0m, in \u001b[0;36mFloodMap.plot_flood_extents\u001b[0;34m(self, timeout, **kwargs)\u001b[0m\n\u001b[1;32m    120\u001b[0m \u001b[38;5;28;01mdef\u001b[39;00m \u001b[38;5;21mplot_flood_extents\u001b[39m(\u001b[38;5;28mself\u001b[39m, timeout: \u001b[38;5;28mint\u001b[39m \u001b[38;5;241m=\u001b[39m \u001b[38;5;241m60\u001b[39m, \u001b[38;5;241m*\u001b[39m\u001b[38;5;241m*\u001b[39mkwargs) \u001b[38;5;241m-\u001b[39m\u001b[38;5;241m>\u001b[39m geemap\u001b[38;5;241m.\u001b[39mMap:\n\u001b[1;32m    121\u001b[0m \u001b[38;5;250m    \u001b[39m\u001b[38;5;124;03m\"\"\"Plots the generated flood extents on a map together with the data the\u001b[39;00m\n\u001b[1;32m    122\u001b[0m \u001b[38;5;124;03m    flood extents are generated from.\u001b[39;00m\n\u001b[1;32m    123\u001b[0m \n\u001b[0;32m   (...)\u001b[0m\n\u001b[1;32m    130\u001b[0m \n\u001b[1;32m    131\u001b[0m \u001b[38;5;124;03m    \"\"\"\u001b[39;00m\n\u001b[0;32m--> 132\u001b[0m     \u001b[38;5;28;01mreturn\u001b[39;00m \u001b[38;5;28;43mself\u001b[39;49m\u001b[38;5;241;43m.\u001b[39;49m\u001b[43mprovider\u001b[49m\u001b[38;5;241;43m.\u001b[39;49m\u001b[43mplot_flood_extents\u001b[49m\u001b[43m(\u001b[49m\u001b[43mtimeout\u001b[49m\u001b[38;5;241;43m=\u001b[39;49m\u001b[43mtimeout\u001b[49m\u001b[43m,\u001b[49m\u001b[43m \u001b[49m\u001b[38;5;241;43m*\u001b[39;49m\u001b[38;5;241;43m*\u001b[39;49m\u001b[43mkwargs\u001b[49m\u001b[43m)\u001b[49m\n",
      "File \u001b[0;32m~/repos/EO-floods/EO_Floods/provider.py:365\u001b[0m, in \u001b[0;36mHydraFloods.plot_flood_extents\u001b[0;34m(self, timeout, zoom)\u001b[0m\n\u001b[1;32m    361\u001b[0m         return_value \u001b[38;5;241m=\u001b[39m pool\u001b[38;5;241m.\u001b[39mapply_async(_plot_flood_extents, (zoom,))\u001b[38;5;241m.\u001b[39mget(\n\u001b[1;32m    362\u001b[0m             timeout\u001b[38;5;241m=\u001b[39mtimeout\n\u001b[1;32m    363\u001b[0m         )\n\u001b[1;32m    364\u001b[0m \u001b[38;5;28;01mexcept\u001b[39;00m multiprocessing\u001b[38;5;241m.\u001b[39mTimeoutError:\n\u001b[0;32m--> 365\u001b[0m     \u001b[38;5;28;01mraise\u001b[39;00m \u001b[38;5;167;01mTimeoutError\u001b[39;00m(\n\u001b[1;32m    366\u001b[0m         \u001b[38;5;124m\"\u001b[39m\u001b[38;5;124mPlotting floodmaps has timed out, increase the time out threshold or plot a smaller selection of your data\u001b[39m\u001b[38;5;124m\"\u001b[39m\n\u001b[1;32m    367\u001b[0m     )\n\u001b[1;32m    368\u001b[0m \u001b[38;5;28;01mreturn\u001b[39;00m return_value\n",
      "\u001b[0;31mTimeoutError\u001b[0m: Plotting floodmaps has timed out, increase the time out threshold or plot a smaller selection of your data"
     ]
    }
   ],
   "source": [
    "floodmap.plot_flood_extents()"
   ]
  },
  {
   "cell_type": "markdown",
   "metadata": {},
   "source": [
    "When you are satisfied with the resulting flood maps it is possible to export them to Earth Engine or your Google Drive. Beware, exporting data can take quite a long time. If you are using the Hydrafloods provider you can check the progress of the data export at the [Earth Engine Code Editor](code.earthengine.google.com). "
   ]
  },
  {
   "cell_type": "code",
   "execution_count": null,
   "metadata": {},
   "outputs": [
    {
     "data": {
      "text/html": [
       "\n",
       "            <style>\n",
       "                .geemap-dark {\n",
       "                    --jp-widgets-color: white;\n",
       "                    --jp-widgets-label-color: white;\n",
       "                    --jp-ui-font-color1: white;\n",
       "                    --jp-layout-color2: #454545;\n",
       "                    background-color: #383838;\n",
       "                }\n",
       "                    \n",
       "                .geemap-dark .jupyter-button {\n",
       "                    --jp-layout-color3: #383838;\n",
       "                }\n",
       "                \n",
       "                .geemap-colab {\n",
       "                    background-color: var(--colab-primary-surface-color, white);\n",
       "                }\n",
       "                    \n",
       "                .geemap-colab .jupyter-button {\n",
       "                    --jp-layout-color3: var(--colab-primary-surface-color, white);\n",
       "                }\n",
       "            </style>\n",
       "            "
      ],
      "text/plain": [
       "<IPython.core.display.HTML object>"
      ]
     },
     "metadata": {},
     "output_type": "display_data"
    }
   ],
   "source": [
    "# The base data where the flood maps are generated from are not automatically included. \n",
    "# If you do need this data you can add include_base_data=True in the method call.\n",
    "# floodmap.export_data(export_type=\"toDrive\", folder=\"EO_Floods\")"
   ]
  }
 ],
 "metadata": {
  "kernelspec": {
   "display_name": "Python 3 (ipykernel)",
   "language": "python",
   "name": "python3"
  },
  "language_info": {
   "codemirror_mode": {
    "name": "ipython",
    "version": 3
   },
   "file_extension": ".py",
   "mimetype": "text/x-python",
   "name": "python",
   "nbconvert_exporter": "python",
   "pygments_lexer": "ipython3",
   "version": "3.11.9"
  }
 },
 "nbformat": 4,
 "nbformat_minor": 4
}
