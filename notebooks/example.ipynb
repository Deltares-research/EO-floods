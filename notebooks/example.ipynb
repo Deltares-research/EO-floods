{
 "cells": [
  {
   "cell_type": "code",
   "execution_count": null,
   "metadata": {},
   "outputs": [],
   "source": [
    "import ee\n",
    "ee.Initialize()\n",
    "from EO_Floods.floodmap import FloodMap"
   ]
  },
  {
   "cell_type": "markdown",
   "metadata": {},
   "source": [
    "### Example workflow of EO-Floods"
   ]
  },
  {
   "cell_type": "markdown",
   "metadata": {},
   "source": [
    "This is an example of a workflow with EO-Floods. We start out with a the region of Shahdadkot city in Pakistan. This city was severly impacted by the floods of 2022. We will look for floods for the month of October. "
   ]
  },
  {
   "cell_type": "markdown",
   "metadata": {},
   "source": [
    "First, initialize a FloodMap object. Give the start date and end date of the period that we are interested in. The geometry should be a bounding box in the form of a list of coordinates ([xmin, ymin, xmax, ymax]). Then the name of a dataset should be given. It is also possible to use multiple datasets, this can be done by giving a list of dataset names. Lastly a provider needs to be given. For now only hydrafloods is supported."
   ]
  },
  {
   "cell_type": "code",
   "execution_count": null,
   "metadata": {},
   "outputs": [],
   "source": [
    "\n",
    "floodmap = FloodMap(\n",
    "    start_date=\"2022-10-01\",\n",
    "    end_date=\"2022-10-30\",\n",
    "    geometry=[67.740187,27.712453,68.104933,28.000935],\n",
    "    datasets=\"Landsat 8\",\n",
    "    provider=\"hydrafloods\"\n",
    ")\n"
   ]
  },
  {
   "cell_type": "markdown",
   "metadata": {},
   "source": [
    "The floodmap object will print information about the data that is retrieved for the given parameters. Mainly the number and dates of the images found. "
   ]
  },
  {
   "cell_type": "code",
   "execution_count": null,
   "metadata": {},
   "outputs": [],
   "source": [
    "floodmap.info"
   ]
  },
  {
   "cell_type": "markdown",
   "metadata": {},
   "source": [
    "There is an option to preview the data before generating flood extents. With this option you can check whether the image covers the area of interest to a desired degree and is of a workable quality."
   ]
  },
  {
   "cell_type": "code",
   "execution_count": null,
   "metadata": {},
   "outputs": [],
   "source": [
    "floodmap.preview_data()"
   ]
  },
  {
   "cell_type": "markdown",
   "metadata": {},
   "source": [
    "If some images are not adequate for generating flood extents then there is the option to select the data that does suit your requirements. You can choose the start date and end date and of which dataset. Be aware that the end date is exclusive.  "
   ]
  },
  {
   "cell_type": "code",
   "execution_count": null,
   "metadata": {},
   "outputs": [],
   "source": [
    "floodmap.select_data(start_date=\"2022-10-07\", end_date=\"2022-10-08\")"
   ]
  },
  {
   "cell_type": "markdown",
   "metadata": {},
   "source": [
    "When you have the right images it is time to generate the flood extents."
   ]
  },
  {
   "cell_type": "code",
   "execution_count": null,
   "metadata": {},
   "outputs": [],
   "source": [
    "floodmap.generate_flood_extents()"
   ]
  },
  {
   "cell_type": "markdown",
   "metadata": {},
   "source": [
    "The flood extents are not automatically plotted since this can take quit some time. You have to call plot_flood_extents() on the FloodMap object to actually plot them. "
   ]
  },
  {
   "cell_type": "code",
   "execution_count": null,
   "metadata": {},
   "outputs": [],
   "source": [
    "floodmap.plot_flood_extents()"
   ]
  }
 ],
 "metadata": {
  "kernelspec": {
   "display_name": "Python 3 (ipykernel)",
   "language": "python",
   "name": "python3"
  },
  "language_info": {
   "codemirror_mode": {
    "name": "ipython",
    "version": 3
   },
   "file_extension": ".py",
   "mimetype": "text/x-python",
   "name": "python",
   "nbconvert_exporter": "python",
   "pygments_lexer": "ipython3",
   "version": "3.11.6"
  }
 },
 "nbformat": 4,
 "nbformat_minor": 4
}
