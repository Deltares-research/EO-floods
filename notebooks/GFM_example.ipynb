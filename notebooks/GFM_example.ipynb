{
 "cells": [
  {
   "cell_type": "code",
   "execution_count": 1,
   "metadata": {},
   "outputs": [],
   "source": [
    "from EO_Floods import FloodMap"
   ]
  },
  {
   "cell_type": "code",
   "execution_count": 2,
   "metadata": {},
   "outputs": [
    {
     "data": {
      "text/html": [
       "\n",
       "            <style>\n",
       "                .geemap-dark {\n",
       "                    --jp-widgets-color: white;\n",
       "                    --jp-widgets-label-color: white;\n",
       "                    --jp-ui-font-color1: white;\n",
       "                    --jp-layout-color2: #454545;\n",
       "                    background-color: #383838;\n",
       "                }\n",
       "\n",
       "                .geemap-dark .jupyter-button {\n",
       "                    --jp-layout-color3: #383838;\n",
       "                }\n",
       "\n",
       "                .geemap-colab {\n",
       "                    background-color: var(--colab-primary-surface-color, white);\n",
       "                }\n",
       "\n",
       "                .geemap-colab .jupyter-button {\n",
       "                    --jp-layout-color3: var(--colab-primary-surface-color, white);\n",
       "                }\n",
       "            </style>\n",
       "            "
      ],
      "text/plain": [
       "<IPython.core.display.HTML object>"
      ]
     },
     "metadata": {},
     "output_type": "display_data"
    },
    {
     "name": "stdout",
     "output_type": "stream",
     "text": [
      "To authenticate to the GFM API please enter your email and your password in the following prompts\n",
      "Successfully authenticated to the GFM API\n",
      "INFO:EO_Floods.providers.GFM.gfm:Uploading geometry to GFM server\n",
      "INFO:EO_Floods.providers.GFM.gfm:Successfully uploaded geometry to GFM server\n",
      "INFO:EO_Floods.providers.GFM.gfm:Retrieving GFM product information\n",
      "INFO:EO_Floods.floodmap:Provider set as GFM\n",
      "INFO:EO_Floods.floodmap:Flood map object initialized\n"
     ]
    }
   ],
   "source": [
    "floodmap = FloodMap(start_date=\"2022-10-01\", end_date=\"2022-10-15\", geometry=[67.740187,27.712453,68.104933,28.000935], provider=\"GFM\")"
   ]
  },
  {
   "cell_type": "code",
   "execution_count": 4,
   "metadata": {},
   "outputs": [
    {
     "data": {
      "text/html": [
       "\n",
       "            <style>\n",
       "                .geemap-dark {\n",
       "                    --jp-widgets-color: white;\n",
       "                    --jp-widgets-label-color: white;\n",
       "                    --jp-ui-font-color1: white;\n",
       "                    --jp-layout-color2: #454545;\n",
       "                    background-color: #383838;\n",
       "                }\n",
       "\n",
       "                .geemap-dark .jupyter-button {\n",
       "                    --jp-layout-color3: #383838;\n",
       "                }\n",
       "\n",
       "                .geemap-colab {\n",
       "                    background-color: var(--colab-primary-surface-color, white);\n",
       "                }\n",
       "\n",
       "                .geemap-colab .jupyter-button {\n",
       "                    --jp-layout-color3: var(--colab-primary-surface-color, white);\n",
       "                }\n",
       "            </style>\n",
       "            "
      ],
      "text/plain": [
       "<IPython.core.display.HTML object>"
      ]
     },
     "metadata": {},
     "output_type": "display_data"
    },
    {
     "ename": "AttributeError",
     "evalue": "'FloodMap' object has no attribute 'generate_flood_extents'",
     "output_type": "error",
     "traceback": [
      "\u001b[0;31m---------------------------------------------------------------------------\u001b[0m",
      "\u001b[0;31mAttributeError\u001b[0m                            Traceback (most recent call last)",
      "Cell \u001b[0;32mIn[4], line 1\u001b[0m\n\u001b[0;32m----> 1\u001b[0m r \u001b[38;5;241m=\u001b[39m \u001b[43mfloodmap\u001b[49m\u001b[38;5;241;43m.\u001b[39;49m\u001b[43mgenerate_flood_extents\u001b[49m(provider\u001b[38;5;241m=\u001b[39m\u001b[38;5;124m\"\u001b[39m\u001b[38;5;124mGFM\u001b[39m\u001b[38;5;124m\"\u001b[39m)\n",
      "\u001b[0;31mAttributeError\u001b[0m: 'FloodMap' object has no attribute 'generate_flood_extents'"
     ]
    }
   ],
   "source": [
    "r = floodmap.generate_flood_extents(provider=\"GFM\")"
   ]
  },
  {
   "cell_type": "code",
   "execution_count": null,
   "metadata": {},
   "outputs": [
    {
     "data": {
      "text/html": [
       "\n",
       "            <style>\n",
       "                .geemap-dark {\n",
       "                    --jp-widgets-color: white;\n",
       "                    --jp-widgets-label-color: white;\n",
       "                    --jp-ui-font-color1: white;\n",
       "                    --jp-layout-color2: #454545;\n",
       "                    background-color: #383838;\n",
       "                }\n",
       "\n",
       "                .geemap-dark .jupyter-button {\n",
       "                    --jp-layout-color3: #383838;\n",
       "                }\n",
       "\n",
       "                .geemap-colab {\n",
       "                    background-color: var(--colab-primary-surface-color, white);\n",
       "                }\n",
       "\n",
       "                .geemap-colab .jupyter-button {\n",
       "                    --jp-layout-color3: var(--colab-primary-surface-color, white);\n",
       "                }\n",
       "            </style>\n",
       "            "
      ],
      "text/plain": [
       "<IPython.core.display.HTML object>"
      ]
     },
     "metadata": {},
     "output_type": "display_data"
    },
    {
     "name": "stdout",
     "output_type": "stream",
     "text": [
      "INFO:EO_Floods.providers.GFM.gfm:Retrieving GFM product information\n",
      "For the following dates there is GFM data:  ['2022-10-02T13:36:35', '2022-10-05T01:25:26', '2022-10-05T01:25:51', '2022-10-09T13:28:25', '2022-10-14T13:36:35']\n"
     ]
    }
   ],
   "source": [
    "floodmap.provider.available_data()"
   ]
  },
  {
   "cell_type": "code",
   "execution_count": 3,
   "metadata": {},
   "outputs": [
    {
     "data": {
      "text/html": [
       "\n",
       "            <style>\n",
       "                .geemap-dark {\n",
       "                    --jp-widgets-color: white;\n",
       "                    --jp-widgets-label-color: white;\n",
       "                    --jp-ui-font-color1: white;\n",
       "                    --jp-layout-color2: #454545;\n",
       "                    background-color: #383838;\n",
       "                }\n",
       "\n",
       "                .geemap-dark .jupyter-button {\n",
       "                    --jp-layout-color3: #383838;\n",
       "                }\n",
       "\n",
       "                .geemap-colab {\n",
       "                    background-color: var(--colab-primary-surface-color, white);\n",
       "                }\n",
       "\n",
       "                .geemap-colab .jupyter-button {\n",
       "                    --jp-layout-color3: var(--colab-primary-surface-color, white);\n",
       "                }\n",
       "            </style>\n",
       "            "
      ],
      "text/plain": [
       "<IPython.core.display.HTML object>"
      ]
     },
     "metadata": {},
     "output_type": "display_data"
    },
    {
     "data": {
      "text/plain": [
       "{'aoi_id': 'b773ab1741dbc0bdc9bf537c5fc0f297bf1d9f80a1125931bf2d6a3b793aa03d',\n",
       " 'products': [{'product_id': '3112ba755f48156bedc770c63fb64f5ef6d817b2e818e87998f5c9e84374d2b0',\n",
       "   'product_time': '2022-10-02T13:36:35',\n",
       "   'notification_seen': None,\n",
       "   'latest_product': False,\n",
       "   'layer_boundary': {'type': 'Polygon',\n",
       "    'coordinates': [[[65.4375, 28.716892],\n",
       "      [65.763062, 27.208214],\n",
       "      [68.315407, 27.624117],\n",
       "      [68.02623, 29.129883],\n",
       "      [65.4375, 28.716892]]]},\n",
       "   'cell_code': 'S1A_IW_GRDH_1SDV_20221002T133635_20221002T133700_045264_056929_9B65'},\n",
       "  {'product_id': '00970cca1a189bfc100f09fdb82858d576016b8fac5f56557e3e137985a9580e',\n",
       "   'product_time': '2022-10-05T01:25:26',\n",
       "   'notification_seen': None,\n",
       "   'latest_product': False,\n",
       "   'layer_boundary': {'type': 'Polygon',\n",
       "    'coordinates': [[[69.422729, 27.721935],\n",
       "      [69.735863, 29.232689],\n",
       "      [67.131866, 29.645081],\n",
       "      [66.855904, 28.137495],\n",
       "      [69.422729, 27.721935]]]},\n",
       "   'cell_code': 'S1A_IW_GRDH_1SDV_20221005T012526_20221005T012551_045300_056A6B_05EC'},\n",
       "  {'product_id': '2aefb8557b8191e22663dfee61ce1a644caed2387e3ff4b9a483327952fefbb1',\n",
       "   'product_time': '2022-10-05T01:25:51',\n",
       "   'notification_seen': None,\n",
       "   'latest_product': False,\n",
       "   'layer_boundary': {'type': 'Polygon',\n",
       "    'coordinates': [[[69.093544, 26.213755],\n",
       "      [69.422707, 27.721846],\n",
       "      [66.856689, 28.137283],\n",
       "      [66.56234, 26.632036],\n",
       "      [69.093544, 26.213755]]]},\n",
       "   'cell_code': 'S1A_IW_GRDH_1SDV_20221005T012551_20221005T012616_045300_056A6B_4AED'},\n",
       "  {'product_id': '280f98229f076a381ea4674605a41def775dedd0ace9e1bd69792c8c315d9d7e',\n",
       "   'product_time': '2022-10-09T13:28:25',\n",
       "   'notification_seen': None,\n",
       "   'latest_product': False,\n",
       "   'layer_boundary': {'type': 'Polygon',\n",
       "    'coordinates': [[[67.425934, 28.928305],\n",
       "      [67.755058, 27.420181],\n",
       "      [70.309891, 27.835615],\n",
       "      [70.017647, 29.34095],\n",
       "      [67.425934, 28.928305]]]},\n",
       "   'cell_code': 'S1A_IW_GRDH_1SDV_20221009T132825_20221009T132850_045366_056C91_0016'},\n",
       "  {'product_id': '30811dda34e014e0dce31c93780ed418544b8d5659658daf7bacee2cec49e7ec',\n",
       "   'product_time': '2022-10-14T13:36:35',\n",
       "   'notification_seen': None,\n",
       "   'latest_product': False,\n",
       "   'layer_boundary': {'type': 'Polygon',\n",
       "    'coordinates': [[[65.438614, 28.716869],\n",
       "      [65.764175, 27.208191],\n",
       "      [68.31662, 27.624084],\n",
       "      [68.027451, 29.129848],\n",
       "      [65.438614, 28.716869]]]},\n",
       "   'cell_code': 'S1A_IW_GRDH_1SDV_20221014T133635_20221014T133700_045439_056F06_46F5'}]}"
      ]
     },
     "execution_count": 3,
     "metadata": {},
     "output_type": "execute_result"
    }
   ],
   "source": [
    "floodmap.provider.products"
   ]
  },
  {
   "cell_type": "code",
   "execution_count": null,
   "metadata": {},
   "outputs": [],
   "source": []
  }
 ],
 "metadata": {
  "kernelspec": {
   "display_name": "EO-Floods",
   "language": "python",
   "name": "python3"
  },
  "language_info": {
   "codemirror_mode": {
    "name": "ipython",
    "version": 3
   },
   "file_extension": ".py",
   "mimetype": "text/x-python",
   "name": "python",
   "nbconvert_exporter": "python",
   "pygments_lexer": "ipython3",
   "version": "3.11.9"
  }
 },
 "nbformat": 4,
 "nbformat_minor": 2
}
