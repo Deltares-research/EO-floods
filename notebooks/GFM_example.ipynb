{
 "cells": [
  {
   "cell_type": "code",
   "execution_count": 1,
   "metadata": {},
   "outputs": [],
   "source": [
    "from EO_Floods.utils import get_dates_in_time_range"
   ]
  },
  {
   "cell_type": "code",
   "execution_count": 3,
   "metadata": {},
   "outputs": [
    {
     "data": {
      "text/plain": [
       "['2022-01-01',\n",
       " '2022-01-02',\n",
       " '2022-01-03',\n",
       " '2022-01-04',\n",
       " '2022-01-05',\n",
       " '2022-01-06',\n",
       " '2022-01-07',\n",
       " '2022-01-08',\n",
       " '2022-01-09',\n",
       " '2022-01-10',\n",
       " '2022-01-11',\n",
       " '2022-01-12',\n",
       " '2022-01-13',\n",
       " '2022-01-14',\n",
       " '2022-01-15',\n",
       " '2022-01-16',\n",
       " '2022-01-17',\n",
       " '2022-01-18',\n",
       " '2022-01-19',\n",
       " '2022-01-20',\n",
       " '2022-01-21',\n",
       " '2022-01-22',\n",
       " '2022-01-23',\n",
       " '2022-01-24',\n",
       " '2022-01-25',\n",
       " '2022-01-26',\n",
       " '2022-01-27',\n",
       " '2022-01-28',\n",
       " '2022-01-29',\n",
       " '2022-01-30',\n",
       " '2022-01-31',\n",
       " '2022-02-01',\n",
       " '2022-02-02',\n",
       " '2022-02-03',\n",
       " '2022-02-04',\n",
       " '2022-02-05',\n",
       " '2022-02-06',\n",
       " '2022-02-07',\n",
       " '2022-02-08',\n",
       " '2022-02-09',\n",
       " '2022-02-10',\n",
       " '2022-02-11',\n",
       " '2022-02-12',\n",
       " '2022-02-13',\n",
       " '2022-02-14',\n",
       " '2022-02-15',\n",
       " '2022-02-16',\n",
       " '2022-02-17',\n",
       " '2022-02-18',\n",
       " '2022-02-19',\n",
       " '2022-02-20',\n",
       " '2022-02-21',\n",
       " '2022-02-22',\n",
       " '2022-02-23',\n",
       " '2022-02-24',\n",
       " '2022-02-25',\n",
       " '2022-02-26',\n",
       " '2022-02-27',\n",
       " '2022-02-28',\n",
       " '2022-03-01',\n",
       " '2022-03-02',\n",
       " '2022-03-03',\n",
       " '2022-03-04',\n",
       " '2022-03-05',\n",
       " '2022-03-06',\n",
       " '2022-03-07',\n",
       " '2022-03-08',\n",
       " '2022-03-09',\n",
       " '2022-03-10',\n",
       " '2022-03-11',\n",
       " '2022-03-12',\n",
       " '2022-03-13',\n",
       " '2022-03-14',\n",
       " '2022-03-15',\n",
       " '2022-03-16',\n",
       " '2022-03-17',\n",
       " '2022-03-18',\n",
       " '2022-03-19',\n",
       " '2022-03-20',\n",
       " '2022-03-21',\n",
       " '2022-03-22',\n",
       " '2022-03-23',\n",
       " '2022-03-24',\n",
       " '2022-03-25',\n",
       " '2022-03-26',\n",
       " '2022-03-27',\n",
       " '2022-03-28',\n",
       " '2022-03-29',\n",
       " '2022-03-30',\n",
       " '2022-03-31']"
      ]
     },
     "execution_count": 3,
     "metadata": {},
     "output_type": "execute_result"
    }
   ],
   "source": [
    "get_dates_in_time_range(start_date_str=\"2022-01-01\", end_date_str=\"2022-03-31\")"
   ]
  },
  {
   "cell_type": "code",
   "execution_count": 5,
   "metadata": {},
   "outputs": [],
   "source": [
    "from EO_Floods.leaflet import WMS_MapObject\n",
    "\n",
    "wms_map = WMS_MapObject(wms_url=\"https://geoserver.gfm.eodc.eu/geoserver/gfm/wms\", layers=\"observed_water_extent\", start_date=\"2022-01-01\", end_date=\"2022-04-30\", bbox=[4.294793,51.974955,4.412896,52.042158])"
   ]
  },
  {
   "cell_type": "code",
   "execution_count": 6,
   "metadata": {},
   "outputs": [
    {
     "data": {
      "application/vnd.jupyter.widget-view+json": {
       "model_id": "3264206fc5a74dc0ba110e40acc84bd4",
       "version_major": 2,
       "version_minor": 0
      },
      "text/plain": [
       "Map(center=[52.0085565, 4.3538445], controls=(ZoomControl(options=['position', 'zoom_in_text', 'zoom_in_title'…"
      ]
     },
     "execution_count": 6,
     "metadata": {},
     "output_type": "execute_result"
    }
   ],
   "source": [
    "wms_map.map()"
   ]
  },
  {
   "cell_type": "code",
   "execution_count": 8,
   "metadata": {},
   "outputs": [
    {
     "data": {
      "application/vnd.jupyter.widget-view+json": {
       "model_id": "7afd61e5ce214d689e822d1151463b11",
       "version_major": 2,
       "version_minor": 0
      },
      "text/plain": [
       "SelectionSlider(description='Time:', options=('2022-01-01', '2022-01-02', '2022-01-03', '2022-01-04', '2022-01…"
      ]
     },
     "execution_count": 8,
     "metadata": {},
     "output_type": "execute_result"
    }
   ],
   "source": [
    "wms_map.get_slider()"
   ]
  },
  {
   "cell_type": "code",
   "execution_count": null,
   "metadata": {},
   "outputs": [],
   "source": []
  }
 ],
 "metadata": {
  "kernelspec": {
   "display_name": "EO-Floods",
   "language": "python",
   "name": "python3"
  },
  "language_info": {
   "codemirror_mode": {
    "name": "ipython",
    "version": 3
   },
   "file_extension": ".py",
   "mimetype": "text/x-python",
   "name": "python",
   "nbconvert_exporter": "python",
   "pygments_lexer": "ipython3",
   "version": "3.11.6"
  }
 },
 "nbformat": 4,
 "nbformat_minor": 2
}
