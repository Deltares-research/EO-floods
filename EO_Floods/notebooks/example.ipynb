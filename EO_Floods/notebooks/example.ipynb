{
 "cells": [
  {
   "cell_type": "code",
   "execution_count": 5,
   "metadata": {},
   "outputs": [],
   "source": [
    "from EO_Floods.floodmap_hf import FloodMapHF\n",
    "import ee\n",
    "ee.Initialize()"
   ]
  },
  {
   "cell_type": "code",
   "execution_count": 3,
   "metadata": {},
   "outputs": [],
   "source": [
    "geometry_coordinates = [4.2088, 51.9182, 4.6636, 52.1683]\n",
    "start_date = \"2023-04-01\"\n",
    "end_date = \"2023-04-30\"\n",
    "dataset = \"Sentinel 1\""
   ]
  },
  {
   "cell_type": "code",
   "execution_count": 6,
   "metadata": {},
   "outputs": [],
   "source": [
    "floodmap = FloodMapHF(\n",
    "    geometry=geometry_coordinates,\n",
    "    start_date=start_date,\n",
    "    end_date=end_date,\n",
    "    dataset=dataset\n",
    "    )"
   ]
  },
  {
   "cell_type": "code",
   "execution_count": 7,
   "metadata": {},
   "outputs": [
    {
     "data": {
      "text/plain": [
       "{'dataset_id': 'COPERNICUS/S1_GRD',\n",
       " 'n_images': 10,\n",
       " 'dates': ['2023-04-03 17:25:24.000',\n",
       "  '2023-04-05 05:58:41.000',\n",
       "  '2023-04-08 17:33:31.000',\n",
       "  '2023-04-12 05:50:33.000',\n",
       "  '2023-04-15 17:25:25.000',\n",
       "  '2023-04-17 05:58:42.000',\n",
       "  '2023-04-20 17:33:31.000',\n",
       "  '2023-04-24 05:50:33.000',\n",
       "  '2023-04-27 17:25:25.000',\n",
       "  '2023-04-29 05:58:43.000']}"
      ]
     },
     "execution_count": 7,
     "metadata": {},
     "output_type": "execute_result"
    }
   ],
   "source": [
    "floodmap.data_preview()"
   ]
  },
  {
   "cell_type": "code",
   "execution_count": null,
   "metadata": {},
   "outputs": [],
   "source": []
  }
 ],
 "metadata": {
  "kernelspec": {
   "display_name": "hydra",
   "language": "python",
   "name": "python3"
  },
  "language_info": {
   "codemirror_mode": {
    "name": "ipython",
    "version": 3
   },
   "file_extension": ".py",
   "mimetype": "text/x-python",
   "name": "python",
   "nbconvert_exporter": "python",
   "pygments_lexer": "ipython3",
   "version": "3.10.11"
  },
  "orig_nbformat": 4
 },
 "nbformat": 4,
 "nbformat_minor": 2
}
