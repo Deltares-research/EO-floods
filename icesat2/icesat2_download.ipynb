{
 "cells": [
  {
   "cell_type": "code",
   "execution_count": 1,
   "metadata": {},
   "outputs": [],
   "source": [
    "import geopandas as gpd\n",
    "\n",
    "from functions import get_icesat2_data, boundingbox_to_gdf"
   ]
  },
  {
   "cell_type": "code",
   "execution_count": 2,
   "metadata": {},
   "outputs": [
    {
     "data": {
      "text/html": [
       "<div>\n",
       "<style scoped>\n",
       "    .dataframe tbody tr th:only-of-type {\n",
       "        vertical-align: middle;\n",
       "    }\n",
       "\n",
       "    .dataframe tbody tr th {\n",
       "        vertical-align: top;\n",
       "    }\n",
       "\n",
       "    .dataframe thead th {\n",
       "        text-align: right;\n",
       "    }\n",
       "</style>\n",
       "<table border=\"1\" class=\"dataframe\">\n",
       "  <thead>\n",
       "    <tr style=\"text-align: right;\">\n",
       "      <th></th>\n",
       "      <th>id</th>\n",
       "      <th>flood_date</th>\n",
       "      <th>geometry</th>\n",
       "    </tr>\n",
       "  </thead>\n",
       "  <tbody>\n",
       "    <tr>\n",
       "      <th>0</th>\n",
       "      <td>1</td>\n",
       "      <td>2020-04-16</td>\n",
       "      <td>POLYGON ((100.30000 16.80000, 100.30000 17.500...</td>\n",
       "    </tr>\n",
       "  </tbody>\n",
       "</table>\n",
       "</div>"
      ],
      "text/plain": [
       "   id  flood_date                                           geometry\n",
       "0   1  2020-04-16  POLYGON ((100.30000 16.80000, 100.30000 17.500..."
      ]
     },
     "execution_count": 2,
     "metadata": {},
     "output_type": "execute_result"
    }
   ],
   "source": [
    "# Create a geopandas geodataframe as input for the get_icesat2_data function\n",
    "bbox =   [100.1,16.8,100.3,17.5]\n",
    "gdf = boundingbox_to_gdf(bbox=bbox, id=1, flood_date='2020-04-16') # if crs is not epsg 4326 than you can supply the other crs by using crs=\"your crs\"\n",
    "gdf"
   ]
  },
  {
   "cell_type": "code",
   "execution_count": 3,
   "metadata": {},
   "outputs": [
    {
     "name": "stdout",
     "output_type": "stream",
     "text": [
      "downloaded data for date 2018-10-20 and track id 332\n",
      "downloaded data for date 2019-01-19 and track id 332\n",
      "downloaded data for date 2019-04-19 and track id 332\n",
      "downloaded data for date 2019-07-19 and track id 332\n",
      "downloaded data for date 2020-01-17 and track id 332\n",
      "downloaded data for date 2020-04-17 and track id 332\n",
      "downloaded data for date 2020-07-17 and track id 332\n",
      "downloaded data for date 2020-10-15 and track id 332\n",
      "downloaded data for date 2021-01-14 and track id 332\n",
      "downloaded data for date 2021-04-15 and track id 332\n",
      "downloaded data for date 2021-07-15 and track id 332\n",
      "downloaded data for date 2021-10-14 and track id 332\n",
      "downloaded data for date 2022-01-13 and track id 332\n",
      "downloaded data for date 2018-11-21 and track id 827\n",
      "downloaded data for date 2019-02-20 and track id 827\n",
      "downloaded data for date 2019-05-22 and track id 827\n",
      "downloaded data for date 2019-08-21 and track id 827\n",
      "downloaded data for date 2020-02-18 and track id 827\n",
      "downloaded data for date 2020-05-19 and track id 827\n",
      "downloaded data for date 2020-08-18 and track id 827\n",
      "downloaded data for date 2020-11-17 and track id 827\n",
      "downloaded data for date 2021-02-16 and track id 827\n",
      "downloaded data for date 2021-05-17 and track id 827\n",
      "downloaded data for date 2021-08-16 and track id 827\n",
      "downloaded data for date 2021-11-15 and track id 827\n",
      "downloaded data for date 2022-02-14 and track id 827\n"
     ]
    }
   ],
   "source": [
    "# Download the icesat2 data\n",
    "icesat2_data = get_icesat2_data(aoi=gdf, icesat2_product=\"atl08\", clip_geom=False)"
   ]
  },
  {
   "cell_type": "code",
   "execution_count": 4,
   "metadata": {},
   "outputs": [],
   "source": [
    "# Save icesat2 data, change the filename to the correct date\n",
    "icesat2_data.to_csv(\"data/icesat2_atl08_2020-04-16.csv\", index=False)"
   ]
  }
 ],
 "metadata": {
  "kernelspec": {
   "display_name": "Python 3.9.13 ('EO-floods')",
   "language": "python",
   "name": "python3"
  },
  "language_info": {
   "codemirror_mode": {
    "name": "ipython",
    "version": 3
   },
   "file_extension": ".py",
   "mimetype": "text/x-python",
   "name": "python",
   "nbconvert_exporter": "python",
   "pygments_lexer": "ipython3",
   "version": "3.9.13"
  },
  "orig_nbformat": 4,
  "vscode": {
   "interpreter": {
    "hash": "a5e6fc2d2feed075ea6facc5d055f7984d44599357d0e58f39e096c51c46d12b"
   }
  }
 },
 "nbformat": 4,
 "nbformat_minor": 2
}
